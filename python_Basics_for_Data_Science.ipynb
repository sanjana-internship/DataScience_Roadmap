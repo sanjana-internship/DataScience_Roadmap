{
 "cells": [
  {
   "cell_type": "markdown",
   "id": "25797ede-e73c-41a0-9914-def06c80daac",
   "metadata": {},
   "source": [
    "\n",
    "Python Basics for Data Science \n",
    "Author: Sanjana jaiswal\n",
    "\n"
   ]
  },
  {
   "cell_type": "code",
   "execution_count": 1,
   "id": "1093ac2e-caed-48f5-91ec-a724079e3684",
   "metadata": {},
   "outputs": [
    {
     "name": "stdout",
     "output_type": "stream",
     "text": [
      "Sum: 30\n"
     ]
    }
   ],
   "source": [
    "x = 10\n",
    "y = 20\n",
    "print(\"Sum:\", x + y)"
   ]
  },
  {
   "cell_type": "code",
   "execution_count": 2,
   "id": "ca68e3cc-b322-4572-9a1a-ee3693ba2991",
   "metadata": {},
   "outputs": [
    {
     "name": "stdout",
     "output_type": "stream",
     "text": [
      "Name: Sanjana\n",
      "Age: 22\n",
      "Height: 5.4\n",
      "Student: True\n"
     ]
    }
   ],
   "source": [
    "\n",
    "# 1. Variables and Data Type\n",
    "age = 22                # integer\n",
    "height = 5.4            # float\n",
    "name = \"Sanjana\"        # string\n",
    "is_student = True       # boolean\n",
    "\n",
    "print(\"Name:\", name)\n",
    "print(\"Age:\", age)\n",
    "print(\"Height:\", height)\n",
    "print(\"Student:\", is_student)"
   ]
  },
  {
   "cell_type": "code",
   "execution_count": 3,
   "id": "ec8d0eda-17c0-4562-bf39-34d445407d07",
   "metadata": {},
   "outputs": [
    {
     "name": "stdout",
     "output_type": "stream",
     "text": [
      "Fruits List: ['apple', 'banana', 'mango', 'apple']\n",
      "Coordinates Tuple: (10, 20)\n",
      "Unique Numbers Set: {1, 2, 3}\n",
      "Student Dictionary: {'name': 'Sanjana', 'age': 22, 'course': 'Data Science'}\n"
     ]
    }
   ],
   "source": [
    "\n",
    "# 2. Lists, Tuples, Sets, Dictionary\n",
    "# List (ordered, changeable, allows duplicates)\n",
    "fruits = [\"apple\", \"banana\", \"mango\", \"apple\"]\n",
    "print(\"Fruits List:\", fruits)\n",
    "\n",
    "# Tuple (ordered, unchangeable)\n",
    "coordinates = (10, 20)\n",
    "print(\"Coordinates Tuple:\", coordinates)\n",
    "\n",
    "# Set (unordered, no duplicates)\n",
    "unique_numbers = {1, 2, 3, 3, 2, 1}\n",
    "print(\"Unique Numbers Set:\", unique_numbers)\n",
    "\n",
    "# Dictionary (key-value pairs)\n",
    "student = {\n",
    "    \"name\": \"Sanjana\",\n",
    "    \"age\": 22,\n",
    "    \"course\": \"Data Science\"\n",
    "}\n",
    "print(\"Student Dictionary:\", student)"
   ]
  },
  {
   "cell_type": "code",
   "execution_count": 4,
   "id": "c1d014e5-cc20-4802-a4ee-34d801b3b965",
   "metadata": {},
   "outputs": [
    {
     "name": "stdin",
     "output_type": "stream",
     "text": [
      "Enter your age:  45\n"
     ]
    },
    {
     "name": "stdout",
     "output_type": "stream",
     "text": [
      "You are eligible for a driving license. Drive safe! \n"
     ]
    }
   ],
   "source": [
    "\n",
    "# If - Elif - Else Example \n",
    "age = int(input(\"Enter your age: \"))\n",
    "\n",
    "if age < 18:\n",
    "    print(\"Sorry, you are underage. You cannot drive yet.\")\n",
    "elif age >= 18 and age < 60:\n",
    "    print(\"You are eligible for a driving license. Drive safe! \")\n",
    "else:\n",
    "    print(\"You can drive, but please be extra careful on the road. \")"
   ]
  },
  {
   "cell_type": "code",
   "execution_count": 5,
   "id": "9636b51a-721d-4c11-a6f9-fa1f6b80e2bc",
   "metadata": {},
   "outputs": [
    {
     "name": "stdout",
     "output_type": "stream",
     "text": [
      "Shopping Bag Items:\n",
      "- apple\n",
      "- banana\n",
      "- mango\n",
      "- orange\n",
      "\n",
      "Numbers from 1 to 5:\n",
      "1\n",
      "2\n",
      "3\n",
      "4\n",
      "5\n"
     ]
    }
   ],
   "source": [
    "\n",
    "# For Loop Example \n",
    "fruits = [\"apple\", \"banana\", \"mango\", \"orange\"]\n",
    "\n",
    "print(\"Shopping Bag Items:\")\n",
    "for fruit in fruits:\n",
    "    print(\"-\", fruit)\n",
    "\n",
    "# Another Example: Print numbers 1 to 5\n",
    "print(\"\\nNumbers from 1 to 5:\")\n",
    "for i in range(1, 6):\n",
    "    print(i)"
   ]
  },
  {
   "cell_type": "code",
   "execution_count": 6,
   "id": "718081de-5e14-408c-87cd-1877424905e8",
   "metadata": {},
   "outputs": [
    {
     "name": "stdout",
     "output_type": "stream",
     "text": [
      "Searching for mango in the basket...\n",
      "Checked: apple\n",
      "Checked: banana\n",
      "Mango found ! Stopping the search.\n"
     ]
    }
   ],
   "source": [
    "\n",
    "# Break Example \n",
    "\n",
    "print(\"Searching for mango in the basket...\")\n",
    "\n",
    "fruits = [\"apple\", \"banana\", \"mango\", \"orange\", \"grapes\"]\n",
    "\n",
    "for fruit in fruits:\n",
    "    if fruit == \"mango\":\n",
    "        print(\"Mango found ! Stopping the search.\")\n",
    "        break\n",
    "    print(\"Checked:\", fruit)"
   ]
  },
  {
   "cell_type": "code",
   "execution_count": 7,
   "id": "3a59c653-b498-427d-8528-cfbdfa122d2a",
   "metadata": {},
   "outputs": [
    {
     "name": "stdout",
     "output_type": "stream",
     "text": [
      "Printing numbers except 3:\n",
      "1\n",
      "2\n",
      "4\n",
      "5\n"
     ]
    }
   ],
   "source": [
    "\n",
    "# Continue Example \n",
    "print(\"Printing numbers except 3:\")\n",
    "\n",
    "for i in range(1, 6):\n",
    "    if i == 3:\n",
    "        continue   # skip 3\n",
    "    print(i)"
   ]
  },
  {
   "cell_type": "code",
   "execution_count": 8,
   "id": "9fb56aae-c14b-49c9-91cb-2700d68d21dc",
   "metadata": {},
   "outputs": [
    {
     "name": "stdout",
     "output_type": "stream",
     "text": [
      "Demo of pass statement:\n",
      "Number: 1\n",
      "Number: 2\n",
      "Number: 4\n",
      "Number: 5\n"
     ]
    }
   ],
   "source": [
    "\n",
    "# Pass Example \n",
    "\n",
    "print(\"Demo of pass statement:\")\n",
    "\n",
    "for i in range(1, 6):\n",
    "    if i == 3:\n",
    "        pass   # abhi code decide nahi kiya, so pass use kiya\n",
    "    else:\n",
    "        print(\"Number:\", i)"
   ]
  },
  {
   "cell_type": "code",
   "execution_count": null,
   "id": "3855a15c-5326-4d1d-9622-ef935ae17240",
   "metadata": {},
   "outputs": [],
   "source": []
  }
 ],
 "metadata": {
  "kernelspec": {
   "display_name": "Python 3 (ipykernel)",
   "language": "python",
   "name": "python3"
  },
  "language_info": {
   "codemirror_mode": {
    "name": "ipython",
    "version": 3
   },
   "file_extension": ".py",
   "mimetype": "text/x-python",
   "name": "python",
   "nbconvert_exporter": "python",
   "pygments_lexer": "ipython3",
   "version": "3.10.9"
  }
 },
 "nbformat": 4,
 "nbformat_minor": 5
}
