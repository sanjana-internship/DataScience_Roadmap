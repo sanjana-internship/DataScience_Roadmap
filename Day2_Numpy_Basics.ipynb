{
 "cells": [
  {
   "cell_type": "code",
   "execution_count": 1,
   "id": "69a78674-6ad9-4357-bf15-5c5212a15d60",
   "metadata": {},
   "outputs": [
    {
     "name": "stdout",
     "output_type": "stream",
     "text": [
      "1D Array: [1 2 3 4 5]\n"
     ]
    }
   ],
   "source": [
    "import numpy as np\n",
    "\n",
    "# 1. Create Arrays\n",
    "arr1 = np.array([1, 2, 3, 4, 5])\n",
    "print(\"1D Array:\", arr1)"
   ]
  },
  {
   "cell_type": "markdown",
   "id": "fc5147f9-0f17-4973-af91-636bc52e6c02",
   "metadata": {},
   "source": [
    "# Day 2- NumPy Basics for Data Science \n",
    "\n",
    "In this notebook, I will cover the fundamentals of NumPy, a powerful Python library \n",
    "used for numerical computing and data manipulation.  \n",
    "It is the foundation for most data science libraries like Pandas, SciPy, and Scikit-learn.\n",
    "\n",
    "## Topics Covered\n",
    "1. Creating NumPy Arrays\n",
    "2. Special Arrays (zeros, ones, random)\n",
    "3. Array Operations\n",
    "4. Statistics with NumPy\n",
    "5. Indexing & Slicing\n",
    "6. Array Attributes (shape, size, dtype, etc.)\n",
    "## Why NumPy?\n",
    "- Faster than Python lists\n",
    "- Supports multi-dimensional arrays\n",
    "- Provides built-in mathematical functions\n",
    "- Used as the base for advanced libraries (Pandas, ML libraries)\n",
    "\n"
   ]
  },
  {
   "cell_type": "code",
   "execution_count": 2,
   "id": "5d0758e2-1b8d-4ded-92b2-6e482afa4dad",
   "metadata": {},
   "outputs": [
    {
     "name": "stdout",
     "output_type": "stream",
     "text": [
      "\n",
      "2D Array:\n",
      " [[1 2 3]\n",
      " [4 5 6]]\n"
     ]
    }
   ],
   "source": [
    "arr2 = np.array([[1, 2, 3], [4, 5, 6]])\n",
    "print(\"\\n2D Array:\\n\", arr2)\n"
   ]
  },
  {
   "cell_type": "code",
   "execution_count": 7,
   "id": "1c2fcebb-2331-4608-8fb4-bb6f96effc68",
   "metadata": {},
   "outputs": [
    {
     "name": "stdout",
     "output_type": "stream",
     "text": [
      "\n",
      "Array of Zeros:\n",
      " [[0. 0. 0.]\n",
      " [0. 0. 0.]]\n",
      "\n",
      "Array of Ones:\n",
      " [[1. 1. 1.]\n",
      " [1. 1. 1.]]\n",
      "\n",
      "Array of Random Numbers:\n",
      " [[0.87473001 0.08247001 0.11594907]\n",
      " [0.98228216 0.36210904 0.17566084]]\n"
     ]
    }
   ],
   "source": [
    "# 2. Array of Zeros, Ones, Random Numbers\n",
    "zeros = np.zeros((2, 3))\n",
    "ones = np.ones((2, 3))\n",
    "randoms = np.random.rand(2, 3)\n",
    "print(\"\\nArray of Zeros:\\n\", zeros)\n",
    "print(\"\\nArray of Ones:\\n\", ones)\n",
    "print(\"\\nArray of Random Numbers:\\n\", randoms)\n",
    "\n"
   ]
  },
  {
   "cell_type": "code",
   "execution_count": 8,
   "id": "6622fee8-9d87-4298-8ac2-17815fd3e372",
   "metadata": {},
   "outputs": [
    {
     "name": "stdout",
     "output_type": "stream",
     "text": [
      "\n",
      "Original Array: [10 20 30 40 50]\n",
      "Array + 5: [15 25 35 45 55]\n",
      "Array * 2: [ 20  40  60  80 100]\n",
      "Array Squared: [ 100  400  900 1600 2500]\n"
     ]
    }
   ],
   "source": [
    "# 3. Array Operations\n",
    "arr3 = np.array([10, 20, 30, 40, 50])\n",
    "print(\"\\nOriginal Array:\", arr3)\n",
    "\n",
    "print(\"Array + 5:\", arr3 + 5)       # Add scalar\n",
    "print(\"Array * 2:\", arr3 * 2)       # Multiply scalar\n",
    "print(\"Array Squared:\", arr3 ** 2)  # Power\n"
   ]
  },
  {
   "cell_type": "code",
   "execution_count": 9,
   "id": "3f933696-4b9e-4e21-9cf2-5d31a639fc46",
   "metadata": {},
   "outputs": [
    {
     "name": "stdout",
     "output_type": "stream",
     "text": [
      "\n",
      "Max: 50\n",
      "Min: 10\n",
      "Mean: 30.0\n",
      "Standard Deviation: 14.142135623730951\n"
     ]
    }
   ],
   "source": [
    "# 4. Statistics with NumPy\n",
    "print(\"\\nMax:\", arr3.max())\n",
    "print(\"Min:\", arr3.min())\n",
    "print(\"Mean:\", arr3.mean())\n",
    "print(\"Standard Deviation:\", arr3.std())"
   ]
  },
  {
   "cell_type": "code",
   "execution_count": 10,
   "id": "d33fac2d-2fc8-4ec9-ab9a-2ef1dc1820ff",
   "metadata": {},
   "outputs": [
    {
     "name": "stdout",
     "output_type": "stream",
     "text": [
      "\n",
      "First Element: 10\n",
      "Last Element: 50\n",
      "Slice (1:4): [20 30 40]\n"
     ]
    }
   ],
   "source": [
    "# 5. Indexing & Slicing\n",
    "print(\"\\nFirst Element:\", arr3[0])\n",
    "print(\"Last Element:\", arr3[-1])\n",
    "print(\"Slice (1:4):\", arr3[1:4])"
   ]
  },
  {
   "cell_type": "code",
   "execution_count": null,
   "id": "b387ea2f-09a3-42cb-9067-29a4590878ef",
   "metadata": {},
   "outputs": [],
   "source": []
  }
 ],
 "metadata": {
  "kernelspec": {
   "display_name": "Python 3 (ipykernel)",
   "language": "python",
   "name": "python3"
  },
  "language_info": {
   "codemirror_mode": {
    "name": "ipython",
    "version": 3
   },
   "file_extension": ".py",
   "mimetype": "text/x-python",
   "name": "python",
   "nbconvert_exporter": "python",
   "pygments_lexer": "ipython3",
   "version": "3.10.9"
  }
 },
 "nbformat": 4,
 "nbformat_minor": 5
}
