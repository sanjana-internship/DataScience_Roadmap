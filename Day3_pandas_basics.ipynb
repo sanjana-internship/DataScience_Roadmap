{
 "cells": [
  {
   "cell_type": "markdown",
   "id": "ae33e953-13fc-4c08-8753-301335f6c169",
   "metadata": {},
   "source": [
    "#Day 3: Pandas Basics for Data Science\n",
    "\n",
    "Welcome to Day 3 of my Data Science learning journey!  \n",
    "Today, I focused on Pandas, one of the most powerful libraries in Python for data manipulation and analysis.  \n",
    "\n",
    "## Topics Covered\n",
    "1. Creating DataFrames\n",
    "2. Reading & Writing CSV files\n",
    "3. Selecting Rows & Columns\n",
    "4. Filtering Data\n",
    "5. Adding New Columns\n",
    "6. Handling Missing Values\n",
    "7. Sorting Data\n",
    "8. Grouping Data\n",
    "\n",
    "## Key Learning\n",
    "- Pandas is built on top of **NumPy** and is mainly used for working with **tabular data**.  \n",
    "- DataFrame is like a table (rows & columns) in Pandas.  \n",
    "- It makes **data cleaning, transformation, and analysis** very easy and fast.  \n",
    "\n",
    "## Practical Use Cases\n",
    "- Cleaning messy datasets before applying ML models.\n",
    "- Reading and analyzing CSV/Excel files in real projects.\n",
    "- Summarizing large datasets with groupby and aggregation.\n",
    "- Preparing structured data for visualization and reporting.\n",
    "\n",
    "\n",
    "\n"
   ]
  },
  {
   "cell_type": "code",
   "execution_count": 1,
   "id": "f4ad5415-2278-4cdc-97db-1f26558d4b82",
   "metadata": {},
   "outputs": [
    {
     "name": "stdout",
     "output_type": "stream",
     "text": [
      "      Name  Age     City\n",
      "0  Sanjana   21    Delhi\n",
      "1     Riya   22   Mumbai\n",
      "2     Aman   23  Kolkata\n",
      "3     Ravi   24  Chennai\n"
     ]
    }
   ],
   "source": [
    "import pandas as pd\n",
    "## 1. Creating DataFrame\n",
    "data = {\n",
    "    \"Name\": [\"Sanjana\", \"Riya\", \"Aman\", \"Ravi\"],\n",
    "    \"Age\": [21, 22, 23, 24],\n",
    "    \"City\": [\"Delhi\", \"Mumbai\", \"Kolkata\", \"Chennai\"]\n",
    "}\n",
    "\n",
    "df = pd.DataFrame(data)\n",
    "print(df)"
   ]
  },
  {
   "cell_type": "code",
   "execution_count": 2,
   "id": "4b06c2aa-2d20-437f-9cc2-1322ef1147b1",
   "metadata": {},
   "outputs": [
    {
     "name": "stdout",
     "output_type": "stream",
     "text": [
      "      Name  Age     City\n",
      "0  Sanjana   21    Delhi\n",
      "1     Riya   22   Mumbai\n",
      "2     Aman   23  Kolkata\n",
      "3     Ravi   24  Chennai\n"
     ]
    }
   ],
   "source": [
    "## Reading & Writing CSV\n",
    "# Write CSV\n",
    "df.to_csv(\"data.csv\", index=False)\n",
    "\n",
    "# Read CSV\n",
    "df_read = pd.read_csv(\"data.csv\")\n",
    "print(df_read)\n"
   ]
  },
  {
   "cell_type": "code",
   "execution_count": 3,
   "id": "943774a9-3f24-414c-a256-b7d551fd7597",
   "metadata": {},
   "outputs": [
    {
     "data": {
      "text/html": [
       "<div>\n",
       "<style scoped>\n",
       "    .dataframe tbody tr th:only-of-type {\n",
       "        vertical-align: middle;\n",
       "    }\n",
       "\n",
       "    .dataframe tbody tr th {\n",
       "        vertical-align: top;\n",
       "    }\n",
       "\n",
       "    .dataframe thead th {\n",
       "        text-align: right;\n",
       "    }\n",
       "</style>\n",
       "<table border=\"1\" class=\"dataframe\">\n",
       "  <thead>\n",
       "    <tr style=\"text-align: right;\">\n",
       "      <th></th>\n",
       "      <th>Name</th>\n",
       "      <th>Age</th>\n",
       "      <th>City</th>\n",
       "    </tr>\n",
       "  </thead>\n",
       "  <tbody>\n",
       "    <tr>\n",
       "      <th>0</th>\n",
       "      <td>Sanjana</td>\n",
       "      <td>21</td>\n",
       "      <td>Delhi</td>\n",
       "    </tr>\n",
       "    <tr>\n",
       "      <th>1</th>\n",
       "      <td>Riya</td>\n",
       "      <td>22</td>\n",
       "      <td>Mumbai</td>\n",
       "    </tr>\n",
       "    <tr>\n",
       "      <th>2</th>\n",
       "      <td>Aman</td>\n",
       "      <td>23</td>\n",
       "      <td>Kolkata</td>\n",
       "    </tr>\n",
       "    <tr>\n",
       "      <th>3</th>\n",
       "      <td>Ravi</td>\n",
       "      <td>24</td>\n",
       "      <td>Chennai</td>\n",
       "    </tr>\n",
       "  </tbody>\n",
       "</table>\n",
       "</div>"
      ],
      "text/plain": [
       "      Name  Age     City\n",
       "0  Sanjana   21    Delhi\n",
       "1     Riya   22   Mumbai\n",
       "2     Aman   23  Kolkata\n",
       "3     Ravi   24  Chennai"
      ]
     },
     "execution_count": 3,
     "metadata": {},
     "output_type": "execute_result"
    }
   ],
   "source": [
    "df"
   ]
  },
  {
   "cell_type": "code",
   "execution_count": 4,
   "id": "e8e95909-827b-4916-acdc-a88aebce5907",
   "metadata": {},
   "outputs": [
    {
     "name": "stdout",
     "output_type": "stream",
     "text": [
      "Names:\n",
      " 0    Sanjana\n",
      "1       Riya\n",
      "2       Aman\n",
      "3       Ravi\n",
      "Name: Name, dtype: object\n",
      "\n",
      "Name and Age:\n",
      "       Name  Age\n",
      "0  Sanjana   21\n",
      "1     Riya   22\n",
      "2     Aman   23\n",
      "3     Ravi   24\n",
      "\n",
      "First Row:\n",
      " Name    Sanjana\n",
      "Age          21\n",
      "City      Delhi\n",
      "Name: 0, dtype: object\n"
     ]
    }
   ],
   "source": [
    "## 3. Selecting Rows & Columns\n",
    "\n",
    "print(\"Names:\\n\", df[\"Name\"])\n",
    "print(\"\\nName and Age:\\n\", df[[\"Name\", \"Age\"]])\n",
    "print(\"\\nFirst Row:\\n\", df.iloc[0])\n",
    "\n"
   ]
  },
  {
   "cell_type": "code",
   "execution_count": 5,
   "id": "9290c0e1-c485-4e63-89d8-6d2d6c477218",
   "metadata": {},
   "outputs": [
    {
     "name": "stdout",
     "output_type": "stream",
     "text": [
      "    Name  Age       City  Marks\n",
      "1   Riya   22     Mumbai     90\n",
      "3   Ravi   24    Chennai     88\n",
      "4  Kiran   25  Bangalore     92\n",
      "      Name  Age   City  Marks\n",
      "0  Sanjana   21  Delhi     85\n"
     ]
    }
   ],
   "source": [
    "##  Filtering Data\n",
    "data2 = {\n",
    "    \"Name\": [\"Sanjana\", \"Riya\", \"Aman\", \"Ravi\", \"Kiran\"],\n",
    "    \"Age\": [21, 22, 23, 24, 25],\n",
    "    \"City\": [\"Delhi\", \"Mumbai\", \"Kolkata\", \"Chennai\", \"Bangalore\"],\n",
    "    \"Marks\": [85, 90, 78, 88, 92]\n",
    "}\n",
    "df2 = pd.DataFrame(data2)\n",
    "\n",
    "print(df2[df2[\"Marks\"] > 85])\n",
    "print(df2[df2[\"City\"] == \"Delhi\"])\n"
   ]
  },
  {
   "cell_type": "code",
   "execution_count": 6,
   "id": "d87844c1-5f9f-4f38-b98e-d2dcd226b7f1",
   "metadata": {},
   "outputs": [
    {
     "data": {
      "text/html": [
       "<div>\n",
       "<style scoped>\n",
       "    .dataframe tbody tr th:only-of-type {\n",
       "        vertical-align: middle;\n",
       "    }\n",
       "\n",
       "    .dataframe tbody tr th {\n",
       "        vertical-align: top;\n",
       "    }\n",
       "\n",
       "    .dataframe thead th {\n",
       "        text-align: right;\n",
       "    }\n",
       "</style>\n",
       "<table border=\"1\" class=\"dataframe\">\n",
       "  <thead>\n",
       "    <tr style=\"text-align: right;\">\n",
       "      <th></th>\n",
       "      <th>Name</th>\n",
       "      <th>Age</th>\n",
       "      <th>City</th>\n",
       "    </tr>\n",
       "  </thead>\n",
       "  <tbody>\n",
       "    <tr>\n",
       "      <th>0</th>\n",
       "      <td>Sanjana</td>\n",
       "      <td>21</td>\n",
       "      <td>Delhi</td>\n",
       "    </tr>\n",
       "    <tr>\n",
       "      <th>1</th>\n",
       "      <td>Riya</td>\n",
       "      <td>22</td>\n",
       "      <td>Mumbai</td>\n",
       "    </tr>\n",
       "    <tr>\n",
       "      <th>2</th>\n",
       "      <td>Aman</td>\n",
       "      <td>23</td>\n",
       "      <td>Kolkata</td>\n",
       "    </tr>\n",
       "    <tr>\n",
       "      <th>3</th>\n",
       "      <td>Ravi</td>\n",
       "      <td>24</td>\n",
       "      <td>Chennai</td>\n",
       "    </tr>\n",
       "  </tbody>\n",
       "</table>\n",
       "</div>"
      ],
      "text/plain": [
       "      Name  Age     City\n",
       "0  Sanjana   21    Delhi\n",
       "1     Riya   22   Mumbai\n",
       "2     Aman   23  Kolkata\n",
       "3     Ravi   24  Chennai"
      ]
     },
     "execution_count": 6,
     "metadata": {},
     "output_type": "execute_result"
    }
   ],
   "source": [
    "df"
   ]
  },
  {
   "cell_type": "code",
   "execution_count": null,
   "id": "4991a29b-f951-48a5-b784-7bc0ee18e9fa",
   "metadata": {},
   "outputs": [],
   "source": []
  },
  {
   "cell_type": "code",
   "execution_count": 7,
   "id": "9e51ebfd-4fc7-49f5-9cef-f08bf135f778",
   "metadata": {},
   "outputs": [
    {
     "name": "stdout",
     "output_type": "stream",
     "text": [
      "Original:\n",
      "   Name   Age     City\n",
      "0    A  20.0    Delhi\n",
      "1    B   NaN   Mumbai\n",
      "2    C  22.0     None\n",
      "3    D   NaN  Kolkata\n",
      "\n",
      "Filled Missing:\n",
      "   Name   Age     City\n",
      "0    A  20.0    Delhi\n",
      "1    B   0.0   Mumbai\n",
      "2    C  22.0  Unknown\n",
      "3    D   0.0  Kolkata\n",
      "\n",
      "Dropped Missing:\n",
      "   Name   Age   City\n",
      "0    A  20.0  Delhi\n"
     ]
    }
   ],
   "source": [
    "## handling missing value\n",
    "data3 = {\n",
    "    \"Name\": [\"A\", \"B\", \"C\", \"D\"],\n",
    "    \"Age\": [20, None, 22, None],\n",
    "    \"City\": [\"Delhi\", \"Mumbai\", None, \"Kolkata\"]\n",
    "}\n",
    "df3 = pd.DataFrame(data3)\n",
    "print(\"Original:\\n\", df3)\n",
    "\n",
    "print(\"\\nFilled Missing:\\n\", df3.fillna({\"Age\": 0, \"City\": \"Unknown\"}))\n",
    "\n",
    "print(\"\\nDropped Missing:\\n\", df3.dropna())"
   ]
  },
  {
   "cell_type": "code",
   "execution_count": 8,
   "id": "84bae531-b08f-44b2-bdd9-183e478f091d",
   "metadata": {},
   "outputs": [
    {
     "name": "stdout",
     "output_type": "stream",
     "text": [
      "City\n",
      "Bangalore    92.0\n",
      "Chennai      88.0\n",
      "Delhi        85.0\n",
      "Kolkata      78.0\n",
      "Mumbai       90.0\n",
      "Name: Marks, dtype: float64\n"
     ]
    }
   ],
   "source": [
    "## grouping  data \n",
    "print(df2.groupby(\"City\")[\"Marks\"].mean())"
   ]
  },
  {
   "cell_type": "code",
   "execution_count": 9,
   "id": "e3ef576e-aa8a-490c-8ac5-5a97efa3c146",
   "metadata": {},
   "outputs": [
    {
     "name": "stdout",
     "output_type": "stream",
     "text": [
      "      Name  Age       City  Marks\n",
      "4    Kiran   25  Bangalore     92\n",
      "1     Riya   22     Mumbai     90\n",
      "3     Ravi   24    Chennai     88\n",
      "0  Sanjana   21      Delhi     85\n",
      "2     Aman   23    Kolkata     78\n"
     ]
    }
   ],
   "source": [
    "\n",
    "## Sorting Data\n",
    "\n",
    "\n",
    "\n",
    "print(df2.sort_values(by=\"Marks\", ascending=False))\n"
   ]
  },
  {
   "cell_type": "code",
   "execution_count": 1,
   "id": "0945aa50-c0fd-44c1-8fff-5810d7f2e33d",
   "metadata": {},
   "outputs": [
    {
     "name": "stdout",
     "output_type": "stream",
     "text": [
      "C:\\Users\\user\n"
     ]
    }
   ],
   "source": [
    "import os\n",
    "print(os.getcwd())"
   ]
  },
  {
   "cell_type": "code",
   "execution_count": null,
   "id": "c96d7601-69fd-4392-bdcb-2fae7f263492",
   "metadata": {},
   "outputs": [],
   "source": []
  }
 ],
 "metadata": {
  "kernelspec": {
   "display_name": "Python 3 (ipykernel)",
   "language": "python",
   "name": "python3"
  },
  "language_info": {
   "codemirror_mode": {
    "name": "ipython",
    "version": 3
   },
   "file_extension": ".py",
   "mimetype": "text/x-python",
   "name": "python",
   "nbconvert_exporter": "python",
   "pygments_lexer": "ipython3",
   "version": "3.10.9"
  }
 },
 "nbformat": 4,
 "nbformat_minor": 5
}
